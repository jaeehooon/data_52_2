{
 "cells": [
  {
   "cell_type": "code",
   "execution_count": 1,
   "id": "80f51ad1",
   "metadata": {},
   "outputs": [],
   "source": [
    "import os\n",
    "import sys\n",
    "import matplotlib.pyplot as plt\n",
    "import cv2\n",
    "import random\n",
    "import numpy as np\n",
    "from tqdm.auto import tqdm"
   ]
  },
  {
   "cell_type": "code",
   "execution_count": 2,
   "id": "46b526db",
   "metadata": {},
   "outputs": [
    {
     "data": {
      "text/plain": [
       "'/home/jaeehooon/PycharmProjects/processing_52_2'"
      ]
     },
     "execution_count": 2,
     "metadata": {},
     "output_type": "execute_result"
    }
   ],
   "source": [
    "os.getcwd()"
   ]
  },
  {
   "cell_type": "code",
   "execution_count": 3,
   "id": "7420fe2c",
   "metadata": {},
   "outputs": [
    {
     "name": "stdout",
     "output_type": "stream",
     "text": [
      "RGBFolder:  True\n",
      "LabelFolder:  True\n",
      "ModalXFolder:  True\n"
     ]
    }
   ],
   "source": [
    "data_root = '../dataset/52_2/'\n",
    "final_root = os.path.join(data_root, 'final')\n",
    "final_rgb_dir = os.path.join(final_root, 'RGBFolder')\n",
    "final_label_dir = os.path.join(final_root, 'LabelFolder')\n",
    "final_modalX_dir = os.path.join(final_root, 'ModalXFolder')\n",
    "\n",
    "print('RGBFolder: ', os.path.exists(final_rgb_dir))\n",
    "print('LabelFolder: ', os.path.exists(final_label_dir))\n",
    "print('ModalXFolder: ', os.path.exists(final_modalX_dir))\n"
   ]
  },
  {
   "cell_type": "code",
   "execution_count": 4,
   "id": "266359ec",
   "metadata": {},
   "outputs": [
    {
     "name": "stdout",
     "output_type": "stream",
     "text": [
      "2915\n"
     ]
    }
   ],
   "source": [
    "label_fn_list = os.listdir(final_label_dir)\n",
    "print(len(label_fn_list))"
   ]
  },
  {
   "cell_type": "code",
   "execution_count": 5,
   "id": "40914680",
   "metadata": {},
   "outputs": [
    {
     "name": "stdout",
     "output_type": "stream",
     "text": [
      "['20220906_154332_26', '20220719_180415_31']\n"
     ]
    }
   ],
   "source": [
    "label_fn_list = [os.path.splitext(fn)[0] for fn in label_fn_list]\n",
    "print(label_fn_list[:2])"
   ]
  },
  {
   "cell_type": "code",
   "execution_count": 6,
   "id": "4f706825",
   "metadata": {},
   "outputs": [],
   "source": [
    "def get_target_data(path):\n",
    "    target_list = []\n",
    "    for (root, dir, files) in os.walk(path):\n",
    "        if 'calibration' in root and len(files) > 0 and files[0] != '.DS_Store':\n",
    "            target_list.append(\n",
    "                root.split('/')[:-1]\n",
    "            )\n",
    "    return target_list\n",
    "\n",
    "target_data = get_target_data(data_root)"
   ]
  },
  {
   "cell_type": "code",
   "execution_count": 7,
   "id": "52199cf1",
   "metadata": {},
   "outputs": [
    {
     "data": {
      "text/plain": [
       "[['..', 'dataset', '52_2', 'DOGU', 'CP', 'a', 'cloudy', '220719', '17-19'],\n",
       " ['..', 'dataset', '52_2', 'RASTECH', 'DCC', 'D', 'cloudy', '220901', '11-14'],\n",
       " ['..', 'dataset', '52_2', 'RASTECH', 'DCC', 'D', 'cloudy', '220902', '14-19'],\n",
       " ['..', 'dataset', '52_2', 'RASTECH', 'DCC', 'D', 'sunny', '220908', '14-19'],\n",
       " ['..', 'dataset', '52_2', 'RASTECH', 'DCC', 'D', 'sunny', '220915', '11-14'],\n",
       " ['..', 'dataset', '52_2', 'RASTECH', 'DCC', 'D', 'sunny', '220906', '14-19'],\n",
       " ['..', 'dataset', '52_2', 'RASTECH', 'DCC', 'D', 'sunny', '220905', '14-19'],\n",
       " ['..', 'dataset', '52_2', 'RASTECH', 'DCC', 'D', 'sunny', '220805', '14-19']]"
      ]
     },
     "execution_count": 7,
     "metadata": {},
     "output_type": "execute_result"
    }
   ],
   "source": [
    "target_data"
   ]
  },
  {
   "cell_type": "markdown",
   "id": "70e2b9ed",
   "metadata": {},
   "source": [
    "## train_test example 1\n",
    "\n",
    "- DOGU만 train, RASTECH는 test\n",
    "    - Train: 0.73%\n",
    "    - Test: 0.27%"
   ]
  },
  {
   "cell_type": "code",
   "execution_count": 9,
   "id": "3e3029e2",
   "metadata": {},
   "outputs": [],
   "source": [
    "total_file_path_list = []\n",
    "\n",
    "train_list, test_list = [], []\n",
    "\n",
    "for target in target_data:\n",
    "    files = os.listdir(os.path.join(\n",
    "        '/'.join(target),\n",
    "        'seg',\n",
    "        'segmentation',\n",
    "    ))\n",
    "    files = [os.path.splitext(fn)[0] for fn in files if not os.path.isdir(fn)]\n",
    "    common_files = list(set(label_fn_list) & set(files))\n",
    "\n",
    "    if 'DOGU' in target:\n",
    "        train_list.extend(common_files)\n",
    "    else:\n",
    "        test_list.extend(common_files)"
   ]
  },
  {
   "cell_type": "code",
   "execution_count": 10,
   "id": "0dcfbf8f",
   "metadata": {},
   "outputs": [
    {
     "name": "stdout",
     "output_type": "stream",
     "text": [
      "2134\n",
      "781\n"
     ]
    }
   ],
   "source": [
    "print(len(train_list))\n",
    "print(len(test_list))"
   ]
  },
  {
   "cell_type": "code",
   "execution_count": 11,
   "id": "014715d1",
   "metadata": {},
   "outputs": [
    {
     "name": "stdout",
     "output_type": "stream",
     "text": [
      "Train: 0.73%\n",
      "Test: 0.27%\n"
     ]
    }
   ],
   "source": [
    "print(\"Train: {:,.2f}%\".format(len(train_list) / len(label_fn_list)))\n",
    "print(\"Test: {:,.2f}%\".format(len(test_list) / len(label_fn_list)))"
   ]
  },
  {
   "cell_type": "code",
   "execution_count": 12,
   "id": "f1838c82",
   "metadata": {},
   "outputs": [
    {
     "data": {
      "text/plain": [
       "'20220906_154332_26'"
      ]
     },
     "execution_count": 12,
     "metadata": {},
     "output_type": "execute_result"
    }
   ],
   "source": [
    "label_fn_list[0]"
   ]
  },
  {
   "cell_type": "code",
   "execution_count": 9,
   "id": "97fa4243",
   "metadata": {},
   "outputs": [
    {
     "data": {
      "text/plain": [
       "{'unlabeled': 0,\n",
       " 'OUT_Road': 1,\n",
       " 'OUT_Structure': 2,\n",
       " 'OUT_Tree': 3,\n",
       " 'OUT_Fence': 4,\n",
       " 'OUT_Pole': 5,\n",
       " 'OUT_Sign': 6,\n",
       " 'Vehicle': 7,\n",
       " 'OUT_Curbstone': 8,\n",
       " 'OUT_Pavement': 9,\n",
       " 'OUT_Undefined Stuff': 10,\n",
       " 'IN_Hall Way': 11,\n",
       " 'IN_Open Space': 12,\n",
       " 'IN_Wall': 13,\n",
       " 'IN_Pillar': 14,\n",
       " 'IN_Obstruction': 15,\n",
       " 'IN_Gate': 16,\n",
       " 'IN_Elevator': 17,\n",
       " 'IN_Sign': 18,\n",
       " 'IN_Fence': 19,\n",
       " 'IN_Undefined Stuff': 20,\n",
       " 'OUT_Grass': 21,\n",
       " 'Human': 22,\n",
       " 'OUT_Bench': 23,\n",
       " 'Stroller': 24,\n",
       " 'OUT_Sculpture': 25,\n",
       " 'OUT_Traffic Safety Stuff': 26,\n",
       " 'Undefined Object': 27,\n",
       " 'OUT_Gate': 28,\n",
       " 'Two-wheeled Vehicle': 29,\n",
       " 'Animal': 30,\n",
       " 'Wheelchair': 31,\n",
       " 'IN_Bench': 32,\n",
       " 'IN_Emergency Stuff': 33}"
      ]
     },
     "execution_count": 9,
     "metadata": {},
     "output_type": "execute_result"
    }
   ],
   "source": [
    "class_names = {}\n",
    "\n",
    "with open('./class_names.txt', 'r') as f:\n",
    "    lines = f.readlines()\n",
    "    \n",
    "    for line in lines:\n",
    "        cls_name = line.rstrip('\\n')\n",
    "        if cls_name not in class_names:\n",
    "            class_names[cls_name] = len(class_names)\n",
    "\n",
    "class_names"
   ]
  },
  {
   "cell_type": "code",
   "execution_count": 14,
   "id": "9cf798bd",
   "metadata": {},
   "outputs": [],
   "source": [
    "predefined_class = {\n",
    "    'unlabeled': 0,\n",
    "    'OUT_Road': 1,\n",
    "    'OUT_Structure': 2,\n",
    "    'OUT_Tree': 3,\n",
    "    'OUT_Fence': 4,\n",
    "    'OUT_Pole': 5,\n",
    "    'OUT_Sign': 6,\n",
    "    'Vehicle': 7,\n",
    "    'OUT_Curbstone': 8,\n",
    "    'OUT_Pavement': 9,\n",
    "    'OUT_Undefined Stuff': 10,\n",
    "    'IN_Hall Way': 11,\n",
    "    'IN_Open Space': 12,\n",
    "    'IN_Wall': 13,\n",
    "    'IN_Pillar': 14,\n",
    "    'IN_Obstruction': 15,\n",
    "    'IN_Gate': 16,\n",
    "    'IN_Elevator': 17,\n",
    "    'IN_Sign': 18,\n",
    "    'IN_Fence': 19,\n",
    "    'IN_Undefined Stuff': 20,\n",
    "    'OUT_Grass': 21,\n",
    "    'Human': 22,\n",
    "    'OUT_Bench': 23,\n",
    "    'Stroller': 24,\n",
    "    'OUT_Sculpture': 25,\n",
    "    'OUT_Traffic Safety Stuff': 26,\n",
    "    'Undefined Object': 27,\n",
    "    'OUT_Gate': 28,\n",
    "    'Two-wheeled Vehicle': 29,\n",
    "    'Animal': 30,\n",
    "    'Wheelchair': 31,\n",
    "    'IN_Bench': 32,\n",
    "    'IN_Emergency Stuff': 33\n",
    "}"
   ]
  },
  {
   "cell_type": "code",
   "execution_count": 15,
   "id": "9828e5e1",
   "metadata": {},
   "outputs": [
    {
     "data": {
      "text/plain": [
       "True"
      ]
     },
     "execution_count": 15,
     "metadata": {},
     "output_type": "execute_result"
    }
   ],
   "source": [
    "class_names == predefined_class"
   ]
  },
  {
   "cell_type": "code",
   "execution_count": 11,
   "id": "6c4d8e05",
   "metadata": {
    "scrolled": true
   },
   "outputs": [
    {
     "data": {
      "text/plain": [
       "{0: 'unlabeled',\n",
       " 1: 'OUT_Road',\n",
       " 2: 'OUT_Structure',\n",
       " 3: 'OUT_Tree',\n",
       " 4: 'OUT_Fence',\n",
       " 5: 'OUT_Pole',\n",
       " 6: 'OUT_Sign',\n",
       " 7: 'Vehicle',\n",
       " 8: 'OUT_Curbstone',\n",
       " 9: 'OUT_Pavement',\n",
       " 10: 'OUT_Undefined Stuff',\n",
       " 11: 'IN_Hall Way',\n",
       " 12: 'IN_Open Space',\n",
       " 13: 'IN_Wall',\n",
       " 14: 'IN_Pillar',\n",
       " 15: 'IN_Obstruction',\n",
       " 16: 'IN_Gate',\n",
       " 17: 'IN_Elevator',\n",
       " 18: 'IN_Sign',\n",
       " 19: 'IN_Fence',\n",
       " 20: 'IN_Undefined Stuff',\n",
       " 21: 'OUT_Grass',\n",
       " 22: 'Human',\n",
       " 23: 'OUT_Bench',\n",
       " 24: 'Stroller',\n",
       " 25: 'OUT_Sculpture',\n",
       " 26: 'OUT_Traffic Safety Stuff',\n",
       " 27: 'Undefined Object',\n",
       " 28: 'OUT_Gate',\n",
       " 29: 'Two-wheeled Vehicle',\n",
       " 30: 'Animal',\n",
       " 31: 'Wheelchair',\n",
       " 32: 'IN_Bench',\n",
       " 33: 'IN_Emergency Stuff'}"
      ]
     },
     "execution_count": 11,
     "metadata": {},
     "output_type": "execute_result"
    }
   ],
   "source": [
    "reverse_class_names = {v: k for k, v in class_names.items()}\n",
    "reverse_class_names"
   ]
  },
  {
   "cell_type": "code",
   "execution_count": 17,
   "id": "ad5335d8",
   "metadata": {},
   "outputs": [
    {
     "data": {
      "application/vnd.jupyter.widget-view+json": {
       "model_id": "a01c3cc1b0be4e1d9ce2234bd4ef1321",
       "version_major": 2,
       "version_minor": 0
      },
      "text/plain": [
       "  0%|          | 0/2915 [00:00<?, ?it/s]"
      ]
     },
     "metadata": {},
     "output_type": "display_data"
    }
   ],
   "source": [
    "class_count = dict({k: 0 for k in class_names.keys()})    # instance 개수 고려 하지 않음. 즉, Max: train 파일 개수, Min: 0\n",
    "\n",
    "for label_fn in tqdm(label_fn_list):\n",
    "    label_img = cv2.imread(os.path.join(final_label_dir, \"{}.png\".format(label_fn)), cv2.IMREAD_GRAYSCALE)\n",
    "    for val in np.unique(label_img):\n",
    "        class_count[reverse_class_names[val]] += 1"
   ]
  },
  {
   "cell_type": "code",
   "execution_count": 18,
   "id": "572a989c",
   "metadata": {},
   "outputs": [
    {
     "data": {
      "text/plain": [
       "{'unlabeled': 2636,\n",
       " 'OUT_Road': 1614,\n",
       " 'OUT_Structure': 1027,\n",
       " 'OUT_Tree': 2094,\n",
       " 'OUT_Fence': 976,\n",
       " 'OUT_Pole': 840,\n",
       " 'OUT_Sign': 507,\n",
       " 'Vehicle': 45,\n",
       " 'OUT_Curbstone': 1384,\n",
       " 'OUT_Pavement': 1681,\n",
       " 'OUT_Undefined Stuff': 1049,\n",
       " 'IN_Hall Way': 75,\n",
       " 'IN_Open Space': 800,\n",
       " 'IN_Wall': 815,\n",
       " 'IN_Pillar': 57,\n",
       " 'IN_Obstruction': 705,\n",
       " 'IN_Gate': 740,\n",
       " 'IN_Elevator': 78,\n",
       " 'IN_Sign': 100,\n",
       " 'IN_Fence': 133,\n",
       " 'IN_Undefined Stuff': 78,\n",
       " 'OUT_Grass': 1326,\n",
       " 'Human': 1505,\n",
       " 'OUT_Bench': 737,\n",
       " 'Stroller': 49,\n",
       " 'OUT_Sculpture': 342,\n",
       " 'OUT_Traffic Safety Stuff': 5,\n",
       " 'Undefined Object': 108,\n",
       " 'OUT_Gate': 81,\n",
       " 'Two-wheeled Vehicle': 4,\n",
       " 'Animal': 10,\n",
       " 'Wheelchair': 12,\n",
       " 'IN_Bench': 88,\n",
       " 'IN_Emergency Stuff': 261}"
      ]
     },
     "execution_count": 18,
     "metadata": {},
     "output_type": "execute_result"
    }
   ],
   "source": [
    "class_count"
   ]
  },
  {
   "cell_type": "code",
   "execution_count": 19,
   "id": "e0e826e3",
   "metadata": {},
   "outputs": [
    {
     "name": "stdout",
     "output_type": "stream",
     "text": [
      "Already exists!\n"
     ]
    }
   ],
   "source": [
    "if not os.path.exists('./train.txt'):\n",
    "    with open('./train.txt', 'w') as f:\n",
    "        f.write('\\n'.join(train_list)) \n",
    "else:\n",
    "    print(\"Already exists!\")"
   ]
  },
  {
   "cell_type": "code",
   "execution_count": 20,
   "id": "d8c97861",
   "metadata": {},
   "outputs": [
    {
     "name": "stdout",
     "output_type": "stream",
     "text": [
      "Already exists!\n"
     ]
    }
   ],
   "source": [
    "if not os.path.exists('./test.txt'):\n",
    "    with open('./test.txt', 'w') as f:\n",
    "        f.write('\\n'.join(test_list))\n",
    "else:\n",
    "    print(\"Already exists!\")"
   ]
  },
  {
   "cell_type": "markdown",
   "id": "de3b1cd4",
   "metadata": {},
   "source": [
    "--- \n",
    "\n",
    "- train/test 내의 class 비율\n",
    "    - 마찬가지로 instance 비율은 따지지 않음\n",
    "    \n",
    "    - 해당 클래스가 있는지 없는지 여부만 확인"
   ]
  },
  {
   "cell_type": "code",
   "execution_count": 23,
   "id": "054e15d8",
   "metadata": {},
   "outputs": [
    {
     "data": {
      "application/vnd.jupyter.widget-view+json": {
       "model_id": "0c019c4047c2443e9bdf8243d1862791",
       "version_major": 2,
       "version_minor": 0
      },
      "text/plain": [
       "  0%|          | 0/2134 [00:00<?, ?it/s]"
      ]
     },
     "metadata": {},
     "output_type": "display_data"
    },
    {
     "data": {
      "text/plain": [
       "{'unlabeled': 1889,\n",
       " 'OUT_Road': 1606,\n",
       " 'OUT_Structure': 993,\n",
       " 'OUT_Tree': 2065,\n",
       " 'OUT_Fence': 976,\n",
       " 'OUT_Pole': 840,\n",
       " 'OUT_Sign': 500,\n",
       " 'Vehicle': 45,\n",
       " 'OUT_Curbstone': 1368,\n",
       " 'OUT_Pavement': 1646,\n",
       " 'OUT_Undefined Stuff': 1021,\n",
       " 'IN_Hall Way': 62,\n",
       " 'IN_Open Space': 67,\n",
       " 'IN_Wall': 67,\n",
       " 'IN_Pillar': 21,\n",
       " 'IN_Obstruction': 10,\n",
       " 'IN_Gate': 18,\n",
       " 'IN_Elevator': 58,\n",
       " 'IN_Sign': 25,\n",
       " 'IN_Fence': 62,\n",
       " 'IN_Undefined Stuff': 20,\n",
       " 'OUT_Grass': 1326,\n",
       " 'Human': 1373,\n",
       " 'OUT_Bench': 735,\n",
       " 'Stroller': 49,\n",
       " 'OUT_Sculpture': 342,\n",
       " 'OUT_Traffic Safety Stuff': 3,\n",
       " 'Undefined Object': 66,\n",
       " 'OUT_Gate': 71,\n",
       " 'Two-wheeled Vehicle': 4,\n",
       " 'Animal': 10,\n",
       " 'Wheelchair': 12,\n",
       " 'IN_Bench': 0,\n",
       " 'IN_Emergency Stuff': 0}"
      ]
     },
     "execution_count": 23,
     "metadata": {},
     "output_type": "execute_result"
    }
   ],
   "source": [
    "class_count = dict({k: 0 for k in class_names.keys()})    # instance 개수 고려 하지 않음. 즉, Max: train 파일 개수, Min: 0\n",
    "\n",
    "with open('./train.txt', 'r') as f:\n",
    "    train_fn_list = f.readlines()\n",
    "\n",
    "train_fn_list = [fn.rstrip('\\n') for fn in train_fn_list]\n",
    "for label_fn in tqdm(train_fn_list):\n",
    "    label_img = cv2.imread(os.path.join(final_label_dir, \"{}.png\".format(label_fn)), cv2.IMREAD_GRAYSCALE)\n",
    "    for val in np.unique(label_img):\n",
    "        class_count[reverse_class_names[val]] += 1\n",
    "        \n",
    "class_count"
   ]
  },
  {
   "cell_type": "code",
   "execution_count": 24,
   "id": "23998493",
   "metadata": {},
   "outputs": [
    {
     "data": {
      "application/vnd.jupyter.widget-view+json": {
       "model_id": "1f8208285a7a4a7c97f6df44ba386bc4",
       "version_major": 2,
       "version_minor": 0
      },
      "text/plain": [
       "  0%|          | 0/781 [00:00<?, ?it/s]"
      ]
     },
     "metadata": {},
     "output_type": "display_data"
    },
    {
     "data": {
      "text/plain": [
       "{'unlabeled': 747,\n",
       " 'OUT_Road': 8,\n",
       " 'OUT_Structure': 34,\n",
       " 'OUT_Tree': 29,\n",
       " 'OUT_Fence': 0,\n",
       " 'OUT_Pole': 0,\n",
       " 'OUT_Sign': 7,\n",
       " 'Vehicle': 0,\n",
       " 'OUT_Curbstone': 16,\n",
       " 'OUT_Pavement': 35,\n",
       " 'OUT_Undefined Stuff': 28,\n",
       " 'IN_Hall Way': 13,\n",
       " 'IN_Open Space': 733,\n",
       " 'IN_Wall': 748,\n",
       " 'IN_Pillar': 36,\n",
       " 'IN_Obstruction': 695,\n",
       " 'IN_Gate': 722,\n",
       " 'IN_Elevator': 20,\n",
       " 'IN_Sign': 75,\n",
       " 'IN_Fence': 71,\n",
       " 'IN_Undefined Stuff': 58,\n",
       " 'OUT_Grass': 0,\n",
       " 'Human': 132,\n",
       " 'OUT_Bench': 2,\n",
       " 'Stroller': 0,\n",
       " 'OUT_Sculpture': 0,\n",
       " 'OUT_Traffic Safety Stuff': 2,\n",
       " 'Undefined Object': 42,\n",
       " 'OUT_Gate': 10,\n",
       " 'Two-wheeled Vehicle': 0,\n",
       " 'Animal': 0,\n",
       " 'Wheelchair': 0,\n",
       " 'IN_Bench': 88,\n",
       " 'IN_Emergency Stuff': 261}"
      ]
     },
     "execution_count": 24,
     "metadata": {},
     "output_type": "execute_result"
    }
   ],
   "source": [
    "class_count = dict({k: 0 for k in class_names.keys()})    # instance 개수 고려 하지 않음. 즉, Max: train 파일 개수, Min: 0\n",
    "\n",
    "with open('./test.txt', 'r') as f:\n",
    "    train_fn_list = f.readlines()\n",
    "\n",
    "train_fn_list = [fn.rstrip('\\n') for fn in train_fn_list]\n",
    "for label_fn in tqdm(train_fn_list):\n",
    "    label_img = cv2.imread(os.path.join(final_label_dir, \"{}.png\".format(label_fn)), cv2.IMREAD_GRAYSCALE)\n",
    "    for val in np.unique(label_img):\n",
    "        class_count[reverse_class_names[val]] += 1\n",
    "        \n",
    "class_count"
   ]
  },
  {
   "cell_type": "code",
   "execution_count": 44,
   "id": "522fa0f0",
   "metadata": {},
   "outputs": [],
   "source": [
    "# y = list(class_count.values())\n",
    "# x = np.arange(len(class_count))\n",
    "# xlabel = list(class_count.keys())\n",
    "\n",
    "# plt.figure(figsize=(20, 15))\n",
    "# plt.title(\"# of class per Image\")\n",
    "# plt.bar(x, y)\n",
    "# plt.xticks(x, xlabel)\n",
    "# plt.yticks(sorted(y))\n",
    "# plt.xlabel(\"Class Names\")\n",
    "# plt.ylabel(\"Count\")\n",
    "# plt.show()"
   ]
  },
  {
   "cell_type": "code",
   "execution_count": 45,
   "id": "a46a83ae",
   "metadata": {},
   "outputs": [],
   "source": [
    "# labels = list(class_count.keys())\n",
    "# sizes = list(class_count.values())\n",
    "# # colors = ['yellowgreen', 'gold', 'lightskyblue', 'lightcoral']\n",
    "# plt.figure(figsize=(20, 15))\n",
    "# explode = tuple([0] * len(class_count))\n",
    "# plt.title(\"Class Count\")\n",
    "# plt.pie(sizes, explode=explode, labels=labels, colors=colors,\n",
    "#         autopct='%1.1f%%', shadow=True, startangle=90, labeldistance=1.1)\n",
    "# plt.axis('equal')\n",
    "# plt.show()"
   ]
  },
  {
   "cell_type": "markdown",
   "id": "a5619836",
   "metadata": {},
   "source": [
    "## train_test example 2\n",
    "\n",
    "- 전체 데이터 중, train:test = 7:3 \n",
    "- random split"
   ]
  },
  {
   "cell_type": "code",
   "execution_count": 8,
   "id": "c2cba5bb",
   "metadata": {},
   "outputs": [],
   "source": [
    "total_file_path_list = []\n",
    "\n",
    "train_ratio = 0.7\n",
    "train_list = random.sample(label_fn_list, int(len(label_fn_list) * train_ratio))\n",
    "test_list = list(set(label_fn_list) - set(train_list))"
   ]
  },
  {
   "cell_type": "code",
   "execution_count": 51,
   "id": "dc261342",
   "metadata": {},
   "outputs": [
    {
     "name": "stdout",
     "output_type": "stream",
     "text": [
      "2040\n",
      "875\n"
     ]
    }
   ],
   "source": [
    "print(len(train_list))\n",
    "print(len(test_list))"
   ]
  },
  {
   "cell_type": "code",
   "execution_count": 52,
   "id": "8c29a399",
   "metadata": {},
   "outputs": [
    {
     "name": "stdout",
     "output_type": "stream",
     "text": [
      "Train: 0.70%\n",
      "Test: 0.30%\n"
     ]
    }
   ],
   "source": [
    "print(\"Train: {:,.2f}%\".format(len(train_list) / len(label_fn_list)))\n",
    "print(\"Test: {:,.2f}%\".format(len(test_list) / len(label_fn_list)))"
   ]
  },
  {
   "cell_type": "code",
   "execution_count": 53,
   "id": "ce6401bd",
   "metadata": {},
   "outputs": [],
   "source": [
    "if not os.path.exists('./train_random_split.txt'):\n",
    "    with open('./train_random_split.txt', 'w') as f:\n",
    "        f.write('\\n'.join(train_list)) \n",
    "else:\n",
    "    print(\"Already exists!\")"
   ]
  },
  {
   "cell_type": "code",
   "execution_count": 54,
   "id": "9521f54c",
   "metadata": {},
   "outputs": [],
   "source": [
    "if not os.path.exists('./test_random_split.txt'):\n",
    "    with open('./test_random_split.txt', 'w') as f:\n",
    "        f.write('\\n'.join(test_list))\n",
    "else:\n",
    "    print(\"Already exists!\")"
   ]
  },
  {
   "cell_type": "code",
   "execution_count": 13,
   "id": "aa1eac98",
   "metadata": {},
   "outputs": [
    {
     "data": {
      "application/vnd.jupyter.widget-view+json": {
       "model_id": "1c390441a7be4714b50a2cd37ef0a2e6",
       "version_major": 2,
       "version_minor": 0
      },
      "text/plain": [
       "  0%|          | 0/2040 [00:00<?, ?it/s]"
      ]
     },
     "metadata": {},
     "output_type": "display_data"
    },
    {
     "data": {
      "text/plain": [
       "{'unlabeled': 1846,\n",
       " 'OUT_Road': 1127,\n",
       " 'OUT_Structure': 701,\n",
       " 'OUT_Tree': 1461,\n",
       " 'OUT_Fence': 670,\n",
       " 'OUT_Pole': 595,\n",
       " 'OUT_Sign': 347,\n",
       " 'Vehicle': 25,\n",
       " 'OUT_Curbstone': 976,\n",
       " 'OUT_Pavement': 1178,\n",
       " 'OUT_Undefined Stuff': 726,\n",
       " 'IN_Hall Way': 48,\n",
       " 'IN_Open Space': 564,\n",
       " 'IN_Wall': 573,\n",
       " 'IN_Pillar': 45,\n",
       " 'IN_Obstruction': 501,\n",
       " 'IN_Gate': 526,\n",
       " 'IN_Elevator': 48,\n",
       " 'IN_Sign': 67,\n",
       " 'IN_Fence': 91,\n",
       " 'IN_Undefined Stuff': 55,\n",
       " 'OUT_Grass': 930,\n",
       " 'Human': 1061,\n",
       " 'OUT_Bench': 531,\n",
       " 'Stroller': 35,\n",
       " 'OUT_Sculpture': 229,\n",
       " 'OUT_Traffic Safety Stuff': 2,\n",
       " 'Undefined Object': 83,\n",
       " 'OUT_Gate': 57,\n",
       " 'Two-wheeled Vehicle': 3,\n",
       " 'Animal': 10,\n",
       " 'Wheelchair': 11,\n",
       " 'IN_Bench': 61,\n",
       " 'IN_Emergency Stuff': 182}"
      ]
     },
     "execution_count": 13,
     "metadata": {},
     "output_type": "execute_result"
    }
   ],
   "source": [
    "class_count = dict({k: 0 for k in class_names.keys()})    # instance 개수 고려 하지 않음. 즉, Max: train 파일 개수, Min: 0\n",
    "\n",
    "with open('./train_random_split.txt', 'r') as f:\n",
    "    train_fn_list = f.readlines()\n",
    "\n",
    "train_fn_list = [fn.rstrip('\\n') for fn in train_fn_list]\n",
    "for label_fn in tqdm(train_fn_list):\n",
    "    label_img = cv2.imread(os.path.join(final_label_dir, \"{}.png\".format(label_fn)), cv2.IMREAD_GRAYSCALE)\n",
    "    for val in np.unique(label_img):\n",
    "        class_count[reverse_class_names[val]] += 1\n",
    "        \n",
    "class_count"
   ]
  },
  {
   "cell_type": "code",
   "execution_count": 12,
   "id": "d438a198",
   "metadata": {},
   "outputs": [
    {
     "data": {
      "application/vnd.jupyter.widget-view+json": {
       "model_id": "09b909ca8d81459192b21b80e144ac2d",
       "version_major": 2,
       "version_minor": 0
      },
      "text/plain": [
       "  0%|          | 0/875 [00:00<?, ?it/s]"
      ]
     },
     "metadata": {},
     "output_type": "display_data"
    },
    {
     "data": {
      "text/plain": [
       "{'unlabeled': 790,\n",
       " 'OUT_Road': 487,\n",
       " 'OUT_Structure': 326,\n",
       " 'OUT_Tree': 633,\n",
       " 'OUT_Fence': 306,\n",
       " 'OUT_Pole': 245,\n",
       " 'OUT_Sign': 160,\n",
       " 'Vehicle': 20,\n",
       " 'OUT_Curbstone': 408,\n",
       " 'OUT_Pavement': 503,\n",
       " 'OUT_Undefined Stuff': 323,\n",
       " 'IN_Hall Way': 27,\n",
       " 'IN_Open Space': 236,\n",
       " 'IN_Wall': 242,\n",
       " 'IN_Pillar': 12,\n",
       " 'IN_Obstruction': 204,\n",
       " 'IN_Gate': 214,\n",
       " 'IN_Elevator': 30,\n",
       " 'IN_Sign': 33,\n",
       " 'IN_Fence': 42,\n",
       " 'IN_Undefined Stuff': 23,\n",
       " 'OUT_Grass': 396,\n",
       " 'Human': 444,\n",
       " 'OUT_Bench': 206,\n",
       " 'Stroller': 14,\n",
       " 'OUT_Sculpture': 113,\n",
       " 'OUT_Traffic Safety Stuff': 3,\n",
       " 'Undefined Object': 25,\n",
       " 'OUT_Gate': 24,\n",
       " 'Two-wheeled Vehicle': 1,\n",
       " 'Animal': 0,\n",
       " 'Wheelchair': 1,\n",
       " 'IN_Bench': 27,\n",
       " 'IN_Emergency Stuff': 79}"
      ]
     },
     "execution_count": 12,
     "metadata": {},
     "output_type": "execute_result"
    }
   ],
   "source": [
    "class_count = dict({k: 0 for k in class_names.keys()})    # instance 개수 고려 하지 않음. 즉, Max: train 파일 개수, Min: 0\n",
    "\n",
    "with open('./test_random_split.txt', 'r') as f:\n",
    "    train_fn_list = f.readlines()\n",
    "\n",
    "train_fn_list = [fn.rstrip('\\n') for fn in train_fn_list]\n",
    "for label_fn in tqdm(train_fn_list):\n",
    "    label_img = cv2.imread(os.path.join(final_label_dir, \"{}.png\".format(label_fn)), cv2.IMREAD_GRAYSCALE)\n",
    "    for val in np.unique(label_img):\n",
    "        class_count[reverse_class_names[val]] += 1\n",
    "        \n",
    "class_count"
   ]
  },
  {
   "cell_type": "code",
   "execution_count": null,
   "id": "51580fbf",
   "metadata": {},
   "outputs": [],
   "source": []
  }
 ],
 "metadata": {
  "kernelspec": {
   "display_name": "Python 3 (ipykernel)",
   "language": "python",
   "name": "python3"
  },
  "language_info": {
   "codemirror_mode": {
    "name": "ipython",
    "version": 3
   },
   "file_extension": ".py",
   "mimetype": "text/x-python",
   "name": "python",
   "nbconvert_exporter": "python",
   "pygments_lexer": "ipython3",
   "version": "3.7.13"
  }
 },
 "nbformat": 4,
 "nbformat_minor": 5
}
