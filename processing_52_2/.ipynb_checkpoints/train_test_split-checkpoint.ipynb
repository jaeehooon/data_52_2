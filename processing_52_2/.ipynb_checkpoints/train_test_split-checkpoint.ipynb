{
 "cells": [
  {
   "cell_type": "code",
   "execution_count": 1,
   "id": "80f51ad1",
   "metadata": {},
   "outputs": [],
   "source": [
    "import os\n",
    "import sys\n",
    "import matplotlib.pyplot as plt\n",
    "import cv2\n",
    "import random\n",
    "import numpy as np\n",
    "from datetime import datetime\n",
    "from tqdm.auto import tqdm"
   ]
  },
  {
   "cell_type": "code",
   "execution_count": 3,
   "id": "7420fe2c",
   "metadata": {},
   "outputs": [
    {
     "name": "stdout",
     "output_type": "stream",
     "text": [
      "RGBFolder:  True\n",
      "LabelFolder:  True\n",
      "ModalXFolder:  True\n"
     ]
    }
   ],
   "source": [
    "data_root = '../dataset/52_2/'\n",
    "\n",
    "final_root = os.path.join(data_root, 'final')\n",
    "final_root = \"../dataset/52_2/final/\"\n",
    "final_rgb_dir = os.path.join(final_root, 'RGBFolder')\n",
    "final_label_dir = os.path.join(final_root, 'LabelFolder')\n",
    "final_modalX_dir = os.path.join(final_root, 'ModalXFolder')\n",
    "\n",
    "print('RGBFolder: ', os.path.exists(final_rgb_dir))\n",
    "print('LabelFolder: ', os.path.exists(final_label_dir))\n",
    "print('ModalXFolder: ', os.path.exists(final_modalX_dir))\n"
   ]
  },
  {
   "cell_type": "code",
   "execution_count": 4,
   "id": "266359ec",
   "metadata": {},
   "outputs": [
    {
     "name": "stdout",
     "output_type": "stream",
     "text": [
      "6419\n"
     ]
    }
   ],
   "source": [
    "label_fn_list = os.listdir(final_label_dir)\n",
    "print(len(label_fn_list))"
   ]
  },
  {
   "cell_type": "code",
   "execution_count": 5,
   "id": "f1838c82",
   "metadata": {},
   "outputs": [
    {
     "data": {
      "text/plain": [
       "'20220906_154332_26.png'"
      ]
     },
     "execution_count": 5,
     "metadata": {},
     "output_type": "execute_result"
    }
   ],
   "source": [
    "label_fn_list[0]"
   ]
  },
  {
   "cell_type": "code",
   "execution_count": 6,
   "id": "40914680",
   "metadata": {},
   "outputs": [
    {
     "name": "stdout",
     "output_type": "stream",
     "text": [
      "['20220906_154332_26', '20220817_100424_15']\n"
     ]
    }
   ],
   "source": [
    "label_fn_list = [os.path.splitext(fn)[0] for fn in label_fn_list]\n",
    "print(label_fn_list[:2])"
   ]
  },
  {
   "cell_type": "code",
   "execution_count": 7,
   "id": "97fa4243",
   "metadata": {},
   "outputs": [
    {
     "data": {
      "text/plain": [
       "{'unlabeled': 0,\n",
       " 'OUT_Road': 1,\n",
       " 'OUT_Structure': 2,\n",
       " 'OUT_Tree': 3,\n",
       " 'OUT_Fence': 4,\n",
       " 'OUT_Pole': 5,\n",
       " 'OUT_Sign': 6,\n",
       " 'Vehicle': 7,\n",
       " 'OUT_Curbstone': 8,\n",
       " 'OUT_Pavement': 9,\n",
       " 'OUT_Undefined Stuff': 10,\n",
       " 'IN_Hall Way': 11,\n",
       " 'IN_Open Space': 12,\n",
       " 'IN_Wall': 13,\n",
       " 'IN_Pillar': 14,\n",
       " 'IN_Obstruction': 15,\n",
       " 'IN_Gate': 16,\n",
       " 'IN_Elevator': 17,\n",
       " 'IN_Sign': 18,\n",
       " 'IN_Fence': 19,\n",
       " 'IN_Undefined Stuff': 20,\n",
       " 'OUT_Grass': 21,\n",
       " 'Human': 22,\n",
       " 'OUT_Bench': 23,\n",
       " 'Stroller': 24,\n",
       " 'OUT_Sculpture': 25,\n",
       " 'OUT_Traffic Safety Stuff': 26,\n",
       " 'Undefined Object': 27,\n",
       " 'OUT_Gate': 28,\n",
       " 'Two-wheeled Vehicle': 29,\n",
       " 'Animal': 30,\n",
       " 'Wheelchair': 31,\n",
       " 'IN_Bench': 32,\n",
       " 'IN_Emergency Stuff': 33}"
      ]
     },
     "execution_count": 7,
     "metadata": {},
     "output_type": "execute_result"
    }
   ],
   "source": [
    "class_names = {}\n",
    "\n",
    "with open('./class_names.txt', 'r') as f:\n",
    "    lines = f.readlines()\n",
    "    \n",
    "    for line in lines:\n",
    "        cls_name = line.rstrip('\\n')\n",
    "        if cls_name not in class_names:\n",
    "            class_names[cls_name] = len(class_names)\n",
    "\n",
    "class_names"
   ]
  },
  {
   "cell_type": "code",
   "execution_count": 8,
   "id": "9cf798bd",
   "metadata": {},
   "outputs": [],
   "source": [
    "predefined_class = {\n",
    "    'unlabeled': 0,\n",
    "    'OUT_Road': 1,\n",
    "    'OUT_Structure': 2,\n",
    "    'OUT_Tree': 3,\n",
    "    'OUT_Fence': 4,\n",
    "    'OUT_Pole': 5,\n",
    "    'OUT_Sign': 6,\n",
    "    'Vehicle': 7,\n",
    "    'OUT_Curbstone': 8,\n",
    "    'OUT_Pavement': 9,\n",
    "    'OUT_Undefined Stuff': 10,\n",
    "    'IN_Hall Way': 11,\n",
    "    'IN_Open Space': 12,\n",
    "    'IN_Wall': 13,\n",
    "    'IN_Pillar': 14,\n",
    "    'IN_Obstruction': 15,\n",
    "    'IN_Gate': 16,\n",
    "    'IN_Elevator': 17,\n",
    "    'IN_Sign': 18,\n",
    "    'IN_Fence': 19,\n",
    "    'IN_Undefined Stuff': 20,\n",
    "    'OUT_Grass': 21,\n",
    "    'Human': 22,\n",
    "    'OUT_Bench': 23,\n",
    "    'Stroller': 24,\n",
    "    'OUT_Sculpture': 25,\n",
    "    'OUT_Traffic Safety Stuff': 26,\n",
    "    'Undefined Object': 27,\n",
    "    'OUT_Gate': 28,\n",
    "    'Two-wheeled Vehicle': 29,\n",
    "    'Animal': 30,\n",
    "    'Wheelchair': 31,\n",
    "    'IN_Bench': 32,\n",
    "    'IN_Emergency Stuff': 33\n",
    "}"
   ]
  },
  {
   "cell_type": "code",
   "execution_count": 9,
   "id": "9828e5e1",
   "metadata": {
    "scrolled": true
   },
   "outputs": [
    {
     "data": {
      "text/plain": [
       "True"
      ]
     },
     "execution_count": 9,
     "metadata": {},
     "output_type": "execute_result"
    }
   ],
   "source": [
    "class_names == predefined_class"
   ]
  },
  {
   "cell_type": "code",
   "execution_count": 10,
   "id": "6c4d8e05",
   "metadata": {
    "scrolled": false
   },
   "outputs": [
    {
     "data": {
      "text/plain": [
       "{0: 'unlabeled',\n",
       " 1: 'OUT_Road',\n",
       " 2: 'OUT_Structure',\n",
       " 3: 'OUT_Tree',\n",
       " 4: 'OUT_Fence',\n",
       " 5: 'OUT_Pole',\n",
       " 6: 'OUT_Sign',\n",
       " 7: 'Vehicle',\n",
       " 8: 'OUT_Curbstone',\n",
       " 9: 'OUT_Pavement',\n",
       " 10: 'OUT_Undefined Stuff',\n",
       " 11: 'IN_Hall Way',\n",
       " 12: 'IN_Open Space',\n",
       " 13: 'IN_Wall',\n",
       " 14: 'IN_Pillar',\n",
       " 15: 'IN_Obstruction',\n",
       " 16: 'IN_Gate',\n",
       " 17: 'IN_Elevator',\n",
       " 18: 'IN_Sign',\n",
       " 19: 'IN_Fence',\n",
       " 20: 'IN_Undefined Stuff',\n",
       " 21: 'OUT_Grass',\n",
       " 22: 'Human',\n",
       " 23: 'OUT_Bench',\n",
       " 24: 'Stroller',\n",
       " 25: 'OUT_Sculpture',\n",
       " 26: 'OUT_Traffic Safety Stuff',\n",
       " 27: 'Undefined Object',\n",
       " 28: 'OUT_Gate',\n",
       " 29: 'Two-wheeled Vehicle',\n",
       " 30: 'Animal',\n",
       " 31: 'Wheelchair',\n",
       " 32: 'IN_Bench',\n",
       " 33: 'IN_Emergency Stuff'}"
      ]
     },
     "execution_count": 10,
     "metadata": {},
     "output_type": "execute_result"
    }
   ],
   "source": [
    "reverse_class_names = {v: k for k, v in class_names.items()}\n",
    "reverse_class_names"
   ]
  },
  {
   "cell_type": "markdown",
   "id": "74d455d1",
   "metadata": {},
   "source": [
    "---"
   ]
  },
  {
   "cell_type": "code",
   "execution_count": 11,
   "id": "4f706825",
   "metadata": {},
   "outputs": [],
   "source": [
    "def get_target_data(path):\n",
    "    target_list = []\n",
    "    for (root, _, files) in os.walk(path):\n",
    "        if 'calibration' in root and len(files) > 0 and files[0] != '.DS_Store':\n",
    "            target_list.append(\n",
    "                root.replace(path, '').split('/')[:-1]\n",
    "            )\n",
    "    return target_list\n",
    "\n",
    "target_data = get_target_data(data_root)"
   ]
  },
  {
   "cell_type": "code",
   "execution_count": 12,
   "id": "52199cf1",
   "metadata": {},
   "outputs": [
    {
     "data": {
      "text/plain": [
       "[['DOGU', 'CP', 'a', 'cloudy', '220719', '17-19'],\n",
       " ['DOGU', 'CP', 'b', 'cloudy', '220719', '16-17'],\n",
       " ['DOGU', 'YS', 'c', 'cloudy', '220718', '14-16'],\n",
       " ['DOGU', 'YS', 'd', 'cloudy', '220715', '17-19'],\n",
       " ['DOGU', 'YS', 'd', 'normal-rain', '220830', '15-16'],\n",
       " ['DOGU', 'YS', 'f', 'cloudy', '220819', '10-11'],\n",
       " ['DOGU', 'YS', 'f', 'normal-rain', '220830', '16-17'],\n",
       " ['DOGU', 'YS', 'indoor', 'cloudy', '220811', '16-17'],\n",
       " ['DOGU', 'YS', 'indoor', 'normal-rain', '220830', '16-17'],\n",
       " ['DOGU', 'YS', 'indoor', 'weak-rain', '220817', '10-11'],\n",
       " ['RASTECH', 'DCC', 'D', 'cloudy', '220901', '11-14'],\n",
       " ['RASTECH', 'DCC', 'D', 'cloudy', '220902', '14-19'],\n",
       " ['RASTECH', 'DCC', 'D', 'sunny', '220805', '14-19'],\n",
       " ['RASTECH', 'DCC', 'D', 'sunny', '220905', '14-19'],\n",
       " ['RASTECH', 'DCC', 'D', 'sunny', '220906', '14-19'],\n",
       " ['RASTECH', 'DCC', 'D', 'sunny', '220908', '14-19'],\n",
       " ['RASTECH', 'DCC', 'D', 'sunny', '220915', '11-14']]"
      ]
     },
     "execution_count": 12,
     "metadata": {},
     "output_type": "execute_result"
    }
   ],
   "source": [
    "target_data"
   ]
  },
  {
   "cell_type": "markdown",
   "id": "70e2b9ed",
   "metadata": {},
   "source": [
    "## train_test example 1\n",
    "\n",
    "- DOGU만 train, RASTECH는 test\n",
    "    - Train: 0.73%\n",
    "    - Test: 0.27%"
   ]
  },
  {
   "cell_type": "code",
   "execution_count": 13,
   "id": "3e3029e2",
   "metadata": {},
   "outputs": [],
   "source": [
    "total_file_path_list = []\n",
    "\n",
    "train_list, test_list = [], []\n",
    "\n",
    "for target in target_data:\n",
    "    files = os.listdir(os.path.join(\n",
    "        data_root, '/'.join(target), 'seg', 'segmentation',\n",
    "    ))\n",
    "    files = [os.path.splitext(fn)[0] for fn in files if not os.path.isdir(fn)]\n",
    "    common_files = list(set(label_fn_list) & set(files))\n",
    "\n",
    "    if 'DOGU' in target:\n",
    "        train_list.extend(common_files)\n",
    "    else:\n",
    "        test_list.extend(common_files)"
   ]
  },
  {
   "cell_type": "code",
   "execution_count": 14,
   "id": "0dcfbf8f",
   "metadata": {},
   "outputs": [
    {
     "name": "stdout",
     "output_type": "stream",
     "text": [
      "5638\n",
      "781\n"
     ]
    }
   ],
   "source": [
    "print(len(train_list))\n",
    "print(len(test_list))"
   ]
  },
  {
   "cell_type": "code",
   "execution_count": 15,
   "id": "014715d1",
   "metadata": {},
   "outputs": [
    {
     "name": "stdout",
     "output_type": "stream",
     "text": [
      "Train: 0.88%\n",
      "Test: 0.12%\n"
     ]
    }
   ],
   "source": [
    "print(\"Train: {:,.2f}%\".format(len(train_list) / len(label_fn_list)))\n",
    "print(\"Test: {:,.2f}%\".format(len(test_list) / len(label_fn_list)))"
   ]
  },
  {
   "cell_type": "code",
   "execution_count": 16,
   "id": "ad5335d8",
   "metadata": {},
   "outputs": [
    {
     "data": {
      "application/vnd.jupyter.widget-view+json": {
       "model_id": "1402cbe6057d4d21a4e6bb46498080f3",
       "version_major": 2,
       "version_minor": 0
      },
      "text/plain": [
       "  0%|          | 0/6419 [00:00<?, ?it/s]"
      ]
     },
     "metadata": {},
     "output_type": "display_data"
    }
   ],
   "source": [
    "class_count = dict({k: 0 for k in class_names.keys()})    # instance 개수 고려 하지 않음. 즉, Max: train 파일 개수, Min: 0\n",
    "\n",
    "for label_fn in tqdm(label_fn_list):\n",
    "    label_img = cv2.imread(os.path.join(final_label_dir, \"{}.png\".format(label_fn)), cv2.IMREAD_GRAYSCALE)\n",
    "    for val in np.unique(label_img):\n",
    "        class_count[reverse_class_names[val]] += 1"
   ]
  },
  {
   "cell_type": "code",
   "execution_count": 17,
   "id": "572a989c",
   "metadata": {},
   "outputs": [
    {
     "data": {
      "text/plain": [
       "{'unlabeled': 5868,\n",
       " 'OUT_Road': 2893,\n",
       " 'OUT_Structure': 2913,\n",
       " 'OUT_Tree': 4334,\n",
       " 'OUT_Fence': 1771,\n",
       " 'OUT_Pole': 1088,\n",
       " 'OUT_Sign': 1255,\n",
       " 'Vehicle': 393,\n",
       " 'OUT_Curbstone': 3381,\n",
       " 'OUT_Pavement': 3506,\n",
       " 'OUT_Undefined Stuff': 3055,\n",
       " 'IN_Hall Way': 1075,\n",
       " 'IN_Open Space': 1240,\n",
       " 'IN_Wall': 2013,\n",
       " 'IN_Pillar': 140,\n",
       " 'IN_Obstruction': 1464,\n",
       " 'IN_Gate': 1722,\n",
       " 'IN_Elevator': 237,\n",
       " 'IN_Sign': 398,\n",
       " 'IN_Fence': 393,\n",
       " 'IN_Undefined Stuff': 796,\n",
       " 'OUT_Grass': 3227,\n",
       " 'Human': 2921,\n",
       " 'OUT_Bench': 944,\n",
       " 'Stroller': 49,\n",
       " 'OUT_Sculpture': 458,\n",
       " 'OUT_Traffic Safety Stuff': 207,\n",
       " 'Undefined Object': 127,\n",
       " 'OUT_Gate': 196,\n",
       " 'Two-wheeled Vehicle': 65,\n",
       " 'Animal': 10,\n",
       " 'Wheelchair': 12,\n",
       " 'IN_Bench': 395,\n",
       " 'IN_Emergency Stuff': 684}"
      ]
     },
     "execution_count": 17,
     "metadata": {},
     "output_type": "execute_result"
    }
   ],
   "source": [
    "class_count"
   ]
  },
  {
   "cell_type": "code",
   "execution_count": 18,
   "id": "953d9fe7",
   "metadata": {},
   "outputs": [
    {
     "name": "stdout",
     "output_type": "stream",
     "text": [
      "train_20221101.txt\n",
      "test_20221101.txt\n"
     ]
    }
   ],
   "source": [
    "today = datetime.today()\n",
    "year, month, day = today.year, today.month, today.day\n",
    "train_output_fn = \"train_{:04d}{:02d}{:02d}.txt\".format(year, month, day)\n",
    "test_output_fn = \"test_{:04d}{:02d}{:02d}.txt\".format(year, month, day)\n",
    "\n",
    "print(train_output_fn)\n",
    "print(test_output_fn)"
   ]
  },
  {
   "cell_type": "code",
   "execution_count": 19,
   "id": "e0e826e3",
   "metadata": {},
   "outputs": [
    {
     "name": "stdout",
     "output_type": "stream",
     "text": [
      "Saved!\n"
     ]
    }
   ],
   "source": [
    "if not os.path.exists(train_output_fn):\n",
    "    with open(train_output_fn, 'w') as f:\n",
    "        f.write('\\n'.join(train_list)) \n",
    "    print('Saved!')\n",
    "else:\n",
    "    print(\"Already exists!\")"
   ]
  },
  {
   "cell_type": "code",
   "execution_count": 20,
   "id": "d8c97861",
   "metadata": {},
   "outputs": [
    {
     "name": "stdout",
     "output_type": "stream",
     "text": [
      "Saved!\n"
     ]
    }
   ],
   "source": [
    "if not os.path.exists(test_output_fn):\n",
    "    with open(test_output_fn, 'w') as f:\n",
    "        f.write('\\n'.join(test_list))\n",
    "    print(\"Saved!\")\n",
    "else:\n",
    "    print(\"Already exists!\")"
   ]
  },
  {
   "cell_type": "markdown",
   "id": "de3b1cd4",
   "metadata": {},
   "source": [
    "--- \n",
    "\n",
    "- train/test 내의 class 비율\n",
    "    - 마찬가지로 instance 비율은 따지지 않음\n",
    "    \n",
    "    - 해당 클래스가 있는지 없는지 여부만 확인"
   ]
  },
  {
   "cell_type": "code",
   "execution_count": 21,
   "id": "054e15d8",
   "metadata": {},
   "outputs": [
    {
     "data": {
      "application/vnd.jupyter.widget-view+json": {
       "model_id": "9b1a5dcb37254cf4a0b6075ac117b84f",
       "version_major": 2,
       "version_minor": 0
      },
      "text/plain": [
       "  0%|          | 0/5638 [00:00<?, ?it/s]"
      ]
     },
     "metadata": {},
     "output_type": "display_data"
    },
    {
     "data": {
      "text/plain": [
       "{'unlabeled': 5121,\n",
       " 'OUT_Road': 2885,\n",
       " 'OUT_Structure': 2879,\n",
       " 'OUT_Tree': 4305,\n",
       " 'OUT_Fence': 1771,\n",
       " 'OUT_Pole': 1088,\n",
       " 'OUT_Sign': 1248,\n",
       " 'Vehicle': 393,\n",
       " 'OUT_Curbstone': 3365,\n",
       " 'OUT_Pavement': 3471,\n",
       " 'OUT_Undefined Stuff': 3027,\n",
       " 'IN_Hall Way': 1062,\n",
       " 'IN_Open Space': 507,\n",
       " 'IN_Wall': 1265,\n",
       " 'IN_Pillar': 104,\n",
       " 'IN_Obstruction': 769,\n",
       " 'IN_Gate': 1000,\n",
       " 'IN_Elevator': 217,\n",
       " 'IN_Sign': 323,\n",
       " 'IN_Fence': 322,\n",
       " 'IN_Undefined Stuff': 738,\n",
       " 'OUT_Grass': 3227,\n",
       " 'Human': 2789,\n",
       " 'OUT_Bench': 942,\n",
       " 'Stroller': 49,\n",
       " 'OUT_Sculpture': 458,\n",
       " 'OUT_Traffic Safety Stuff': 205,\n",
       " 'Undefined Object': 85,\n",
       " 'OUT_Gate': 186,\n",
       " 'Two-wheeled Vehicle': 65,\n",
       " 'Animal': 10,\n",
       " 'Wheelchair': 12,\n",
       " 'IN_Bench': 307,\n",
       " 'IN_Emergency Stuff': 423}"
      ]
     },
     "execution_count": 21,
     "metadata": {},
     "output_type": "execute_result"
    }
   ],
   "source": [
    "class_count = dict({k: 0 for k in class_names.keys()})    # instance 개수 고려 하지 않음. 즉, Max: train 파일 개수, Min: 0\n",
    "\n",
    "with open(train_output_fn, 'r') as f:\n",
    "    train_fn_list = f.readlines()\n",
    "\n",
    "train_fn_list = [fn.rstrip('\\n') for fn in train_fn_list]\n",
    "for label_fn in tqdm(train_fn_list):\n",
    "    label_img = cv2.imread(os.path.join(final_label_dir, \"{}.png\".format(label_fn)), cv2.IMREAD_GRAYSCALE)\n",
    "    for val in np.unique(label_img):\n",
    "        class_count[reverse_class_names[val]] += 1\n",
    "        \n",
    "class_count"
   ]
  },
  {
   "cell_type": "code",
   "execution_count": 22,
   "id": "23998493",
   "metadata": {},
   "outputs": [
    {
     "data": {
      "application/vnd.jupyter.widget-view+json": {
       "model_id": "44923ad39690460896f4ac004f289edf",
       "version_major": 2,
       "version_minor": 0
      },
      "text/plain": [
       "  0%|          | 0/781 [00:00<?, ?it/s]"
      ]
     },
     "metadata": {},
     "output_type": "display_data"
    },
    {
     "data": {
      "text/plain": [
       "{'unlabeled': 747,\n",
       " 'OUT_Road': 8,\n",
       " 'OUT_Structure': 34,\n",
       " 'OUT_Tree': 29,\n",
       " 'OUT_Fence': 0,\n",
       " 'OUT_Pole': 0,\n",
       " 'OUT_Sign': 7,\n",
       " 'Vehicle': 0,\n",
       " 'OUT_Curbstone': 16,\n",
       " 'OUT_Pavement': 35,\n",
       " 'OUT_Undefined Stuff': 28,\n",
       " 'IN_Hall Way': 13,\n",
       " 'IN_Open Space': 733,\n",
       " 'IN_Wall': 748,\n",
       " 'IN_Pillar': 36,\n",
       " 'IN_Obstruction': 695,\n",
       " 'IN_Gate': 722,\n",
       " 'IN_Elevator': 20,\n",
       " 'IN_Sign': 75,\n",
       " 'IN_Fence': 71,\n",
       " 'IN_Undefined Stuff': 58,\n",
       " 'OUT_Grass': 0,\n",
       " 'Human': 132,\n",
       " 'OUT_Bench': 2,\n",
       " 'Stroller': 0,\n",
       " 'OUT_Sculpture': 0,\n",
       " 'OUT_Traffic Safety Stuff': 2,\n",
       " 'Undefined Object': 42,\n",
       " 'OUT_Gate': 10,\n",
       " 'Two-wheeled Vehicle': 0,\n",
       " 'Animal': 0,\n",
       " 'Wheelchair': 0,\n",
       " 'IN_Bench': 88,\n",
       " 'IN_Emergency Stuff': 261}"
      ]
     },
     "execution_count": 22,
     "metadata": {},
     "output_type": "execute_result"
    }
   ],
   "source": [
    "class_count = dict({k: 0 for k in class_names.keys()})    # instance 개수 고려 하지 않음. 즉, Max: test 파일 개수, Min: 0\n",
    "\n",
    "with open(test_output_fn, 'r') as f:\n",
    "    train_fn_list = f.readlines()\n",
    "\n",
    "train_fn_list = [fn.rstrip('\\n') for fn in train_fn_list]\n",
    "for label_fn in tqdm(train_fn_list):\n",
    "    label_img = cv2.imread(os.path.join(final_label_dir, \"{}.png\".format(label_fn)), cv2.IMREAD_GRAYSCALE)\n",
    "    for val in np.unique(label_img):\n",
    "        class_count[reverse_class_names[val]] += 1\n",
    "        \n",
    "class_count"
   ]
  },
  {
   "cell_type": "markdown",
   "id": "a5619836",
   "metadata": {},
   "source": [
    "## train_test example 2\n",
    "\n",
    "- 전체 데이터 중, train:test = 7:3 \n",
    "- random split"
   ]
  },
  {
   "cell_type": "code",
   "execution_count": 23,
   "id": "b73e0299",
   "metadata": {},
   "outputs": [
    {
     "name": "stdout",
     "output_type": "stream",
     "text": [
      "train_random_split_20221101.txt\n",
      "test_random_split_20221101.txt\n"
     ]
    }
   ],
   "source": [
    "today = datetime.today()\n",
    "year, month, day = today.year, today.month, today.day\n",
    "\n",
    "train_random_split_output_fn = \"train_random_split_{:04d}{:02d}{:02d}.txt\".format(year, month, day)\n",
    "test_random_split_output_fn = \"test_random_split_{:04d}{:02d}{:02d}.txt\".format(year, month, day)\n",
    "\n",
    "print(train_random_split_output_fn)\n",
    "print(test_random_split_output_fn)"
   ]
  },
  {
   "cell_type": "code",
   "execution_count": 24,
   "id": "c2cba5bb",
   "metadata": {},
   "outputs": [],
   "source": [
    "total_file_path_list = []\n",
    "\n",
    "train_ratio = 0.7\n",
    "train_list = random.sample(label_fn_list, int(len(label_fn_list) * train_ratio))\n",
    "test_list = list(set(label_fn_list) - set(train_list))"
   ]
  },
  {
   "cell_type": "code",
   "execution_count": 25,
   "id": "dc261342",
   "metadata": {},
   "outputs": [
    {
     "name": "stdout",
     "output_type": "stream",
     "text": [
      "4493\n",
      "1926\n"
     ]
    }
   ],
   "source": [
    "print(len(train_list))\n",
    "print(len(test_list))"
   ]
  },
  {
   "cell_type": "code",
   "execution_count": 26,
   "id": "8c29a399",
   "metadata": {},
   "outputs": [
    {
     "name": "stdout",
     "output_type": "stream",
     "text": [
      "Train: 0.70%\n",
      "Test: 0.30%\n"
     ]
    }
   ],
   "source": [
    "print(\"Train: {:,.2f}%\".format(len(train_list) / len(label_fn_list)))\n",
    "print(\"Test: {:,.2f}%\".format(len(test_list) / len(label_fn_list)))"
   ]
  },
  {
   "cell_type": "code",
   "execution_count": 27,
   "id": "ce6401bd",
   "metadata": {},
   "outputs": [
    {
     "name": "stdout",
     "output_type": "stream",
     "text": [
      "train_random_split_20221101.txt Saved!\n"
     ]
    }
   ],
   "source": [
    "if not os.path.exists(train_random_split_output_fn):\n",
    "    with open(train_random_split_output_fn, 'w') as f:\n",
    "        f.write('\\n'.join(train_list)) \n",
    "    print('{} Saved!'.format(train_random_split_output_fn))\n",
    "else:\n",
    "    print(\"Already exists!\")"
   ]
  },
  {
   "cell_type": "code",
   "execution_count": 28,
   "id": "9521f54c",
   "metadata": {},
   "outputs": [
    {
     "name": "stdout",
     "output_type": "stream",
     "text": [
      "test_random_split_20221101.txt Saved!\n"
     ]
    }
   ],
   "source": [
    "if not os.path.exists(test_random_split_output_fn):\n",
    "    with open(test_random_split_output_fn, 'w') as f:\n",
    "        f.write('\\n'.join(test_list))\n",
    "    print('{} Saved!'.format(test_random_split_output_fn))\n",
    "else:\n",
    "    print(\"Already exists!\")"
   ]
  },
  {
   "cell_type": "code",
   "execution_count": 29,
   "id": "aa1eac98",
   "metadata": {},
   "outputs": [
    {
     "data": {
      "application/vnd.jupyter.widget-view+json": {
       "model_id": "4175a56b74cd4f459f606a6ab6f9d4fd",
       "version_major": 2,
       "version_minor": 0
      },
      "text/plain": [
       "  0%|          | 0/4493 [00:00<?, ?it/s]"
      ]
     },
     "metadata": {},
     "output_type": "display_data"
    },
    {
     "data": {
      "text/plain": [
       "{'unlabeled': 4109,\n",
       " 'OUT_Road': 2057,\n",
       " 'OUT_Structure': 2063,\n",
       " 'OUT_Tree': 3051,\n",
       " 'OUT_Fence': 1243,\n",
       " 'OUT_Pole': 785,\n",
       " 'OUT_Sign': 907,\n",
       " 'Vehicle': 287,\n",
       " 'OUT_Curbstone': 2377,\n",
       " 'OUT_Pavement': 2457,\n",
       " 'OUT_Undefined Stuff': 2122,\n",
       " 'IN_Hall Way': 732,\n",
       " 'IN_Open Space': 859,\n",
       " 'IN_Wall': 1390,\n",
       " 'IN_Pillar': 92,\n",
       " 'IN_Obstruction': 1023,\n",
       " 'IN_Gate': 1207,\n",
       " 'IN_Elevator': 149,\n",
       " 'IN_Sign': 271,\n",
       " 'IN_Fence': 259,\n",
       " 'IN_Undefined Stuff': 538,\n",
       " 'OUT_Grass': 2265,\n",
       " 'Human': 2087,\n",
       " 'OUT_Bench': 675,\n",
       " 'Stroller': 33,\n",
       " 'OUT_Sculpture': 311,\n",
       " 'OUT_Traffic Safety Stuff': 137,\n",
       " 'Undefined Object': 93,\n",
       " 'OUT_Gate': 132,\n",
       " 'Two-wheeled Vehicle': 49,\n",
       " 'Animal': 5,\n",
       " 'Wheelchair': 6,\n",
       " 'IN_Bench': 270,\n",
       " 'IN_Emergency Stuff': 483}"
      ]
     },
     "execution_count": 29,
     "metadata": {},
     "output_type": "execute_result"
    }
   ],
   "source": [
    "class_count = dict({k: 0 for k in class_names.keys()})    # instance 개수 고려 하지 않음. 즉, Max: train 파일 개수, Min: 0\n",
    "\n",
    "with open(train_random_split_output_fn, 'r') as f:\n",
    "    train_fn_list = f.readlines()\n",
    "\n",
    "train_fn_list = [fn.rstrip('\\n') for fn in train_fn_list]\n",
    "for label_fn in tqdm(train_fn_list):\n",
    "    label_img = cv2.imread(os.path.join(final_label_dir, \"{}.png\".format(label_fn)), cv2.IMREAD_GRAYSCALE)\n",
    "    for val in np.unique(label_img):\n",
    "        class_count[reverse_class_names[val]] += 1\n",
    "        \n",
    "class_count"
   ]
  },
  {
   "cell_type": "code",
   "execution_count": 30,
   "id": "d438a198",
   "metadata": {},
   "outputs": [
    {
     "data": {
      "application/vnd.jupyter.widget-view+json": {
       "model_id": "18c53ac095704890891ff54cfef17c98",
       "version_major": 2,
       "version_minor": 0
      },
      "text/plain": [
       "  0%|          | 0/1926 [00:00<?, ?it/s]"
      ]
     },
     "metadata": {},
     "output_type": "display_data"
    },
    {
     "data": {
      "text/plain": [
       "{'unlabeled': 1759,\n",
       " 'OUT_Road': 836,\n",
       " 'OUT_Structure': 850,\n",
       " 'OUT_Tree': 1283,\n",
       " 'OUT_Fence': 528,\n",
       " 'OUT_Pole': 303,\n",
       " 'OUT_Sign': 348,\n",
       " 'Vehicle': 106,\n",
       " 'OUT_Curbstone': 1004,\n",
       " 'OUT_Pavement': 1049,\n",
       " 'OUT_Undefined Stuff': 933,\n",
       " 'IN_Hall Way': 343,\n",
       " 'IN_Open Space': 381,\n",
       " 'IN_Wall': 623,\n",
       " 'IN_Pillar': 48,\n",
       " 'IN_Obstruction': 441,\n",
       " 'IN_Gate': 515,\n",
       " 'IN_Elevator': 88,\n",
       " 'IN_Sign': 127,\n",
       " 'IN_Fence': 134,\n",
       " 'IN_Undefined Stuff': 258,\n",
       " 'OUT_Grass': 962,\n",
       " 'Human': 834,\n",
       " 'OUT_Bench': 269,\n",
       " 'Stroller': 16,\n",
       " 'OUT_Sculpture': 147,\n",
       " 'OUT_Traffic Safety Stuff': 70,\n",
       " 'Undefined Object': 34,\n",
       " 'OUT_Gate': 64,\n",
       " 'Two-wheeled Vehicle': 16,\n",
       " 'Animal': 5,\n",
       " 'Wheelchair': 6,\n",
       " 'IN_Bench': 125,\n",
       " 'IN_Emergency Stuff': 201}"
      ]
     },
     "execution_count": 30,
     "metadata": {},
     "output_type": "execute_result"
    }
   ],
   "source": [
    "class_count = dict({k: 0 for k in class_names.keys()})    # instance 개수 고려 하지 않음. 즉, Max: test 파일 개수, Min: 0\n",
    "\n",
    "with open(test_random_split_output_fn, 'r') as f:\n",
    "    train_fn_list = f.readlines()\n",
    "\n",
    "train_fn_list = [fn.rstrip('\\n') for fn in train_fn_list]\n",
    "for label_fn in tqdm(train_fn_list):\n",
    "    label_img = cv2.imread(os.path.join(final_label_dir, \"{}.png\".format(label_fn)), cv2.IMREAD_GRAYSCALE)\n",
    "    for val in np.unique(label_img):\n",
    "        class_count[reverse_class_names[val]] += 1\n",
    "        \n",
    "class_count"
   ]
  },
  {
   "cell_type": "code",
   "execution_count": null,
   "id": "51580fbf",
   "metadata": {},
   "outputs": [],
   "source": []
  }
 ],
 "metadata": {
  "kernelspec": {
   "display_name": "Python 3 (ipykernel)",
   "language": "python",
   "name": "python3"
  },
  "language_info": {
   "codemirror_mode": {
    "name": "ipython",
    "version": 3
   },
   "file_extension": ".py",
   "mimetype": "text/x-python",
   "name": "python",
   "nbconvert_exporter": "python",
   "pygments_lexer": "ipython3",
   "version": "3.9.12"
  }
 },
 "nbformat": 4,
 "nbformat_minor": 5
}
