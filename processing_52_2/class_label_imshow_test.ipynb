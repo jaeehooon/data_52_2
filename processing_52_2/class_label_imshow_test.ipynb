{
 "cells": [
  {
   "cell_type": "code",
   "execution_count": 3,
   "id": "b75f8a0b",
   "metadata": {},
   "outputs": [],
   "source": [
    "import numpy as np\n",
    "import matplotlib.pyplot as plt\n",
    "import cv2\n",
    "import os\n",
    "import random"
   ]
  },
  {
   "cell_type": "code",
   "execution_count": 2,
   "id": "2e17eea3",
   "metadata": {},
   "outputs": [],
   "source": [
    "data_root = \"../dataset/52_2/final/\"\n",
    "\n",
    "label_dir = os.path.join(data_root, 'LabelFolder')"
   ]
  },
  {
   "cell_type": "code",
   "execution_count": 19,
   "id": "d0249231",
   "metadata": {},
   "outputs": [
    {
     "data": {
      "text/plain": [
       "'../dataset/52_2/final/LabelFolder/20220719_182957_44.png'"
      ]
     },
     "execution_count": 19,
     "metadata": {},
     "output_type": "execute_result"
    }
   ],
   "source": [
    "sample_file = os.path.join(label_dir, random.sample(os.listdir(label_dir), 1)[0])\n",
    "sample_file"
   ]
  },
  {
   "cell_type": "code",
   "execution_count": 20,
   "id": "3cb65774",
   "metadata": {},
   "outputs": [
    {
     "data": {
      "text/plain": [
       "{'unlabeled': 0,\n",
       " 'OUT_Road': 1,\n",
       " 'OUT_Structure': 2,\n",
       " 'OUT_Tree': 3,\n",
       " 'OUT_Fence': 4,\n",
       " 'OUT_Pole': 5,\n",
       " 'OUT_Sign': 6,\n",
       " 'Vehicle': 7,\n",
       " 'OUT_Curbstone': 8,\n",
       " 'OUT_Pavement': 9,\n",
       " 'OUT_Undefined Stuff': 10,\n",
       " 'IN_Hall Way': 11,\n",
       " 'IN_Open Space': 12,\n",
       " 'IN_Wall': 13,\n",
       " 'IN_Pillar': 14,\n",
       " 'IN_Obstruction': 15,\n",
       " 'IN_Gate': 16,\n",
       " 'IN_Elevator': 17,\n",
       " 'IN_Sign': 18,\n",
       " 'IN_Fence': 19,\n",
       " 'IN_Undefined Stuff': 20,\n",
       " 'OUT_Grass': 21,\n",
       " 'Human': 22,\n",
       " 'OUT_Bench': 23,\n",
       " 'Stroller': 24,\n",
       " 'OUT_Sculpture': 25,\n",
       " 'OUT_Traffic Safety Stuff': 26,\n",
       " 'Undefined Object': 27,\n",
       " 'OUT_Gate': 28,\n",
       " 'Two-wheeled Vehicle': 29,\n",
       " 'Animal': 30,\n",
       " 'Wheelchair': 31,\n",
       " 'IN_Bench': 32,\n",
       " 'IN_Emergency Stuff': 33}"
      ]
     },
     "execution_count": 20,
     "metadata": {},
     "output_type": "execute_result"
    }
   ],
   "source": [
    "cls_names = {}\n",
    "with open('./class_names.txt', 'r') as f:\n",
    "    lines = f.readlines()\n",
    "    \n",
    "    for line in lines:\n",
    "        name = line.rstrip('\\n')\n",
    "        if name not in cls_names:\n",
    "            cls_names[name] = len(cls_names)\n",
    "\n",
    "reverse_cls_names = {v: k for k, v in cls_names.items()}\n",
    "cls_names"
   ]
  },
  {
   "cell_type": "code",
   "execution_count": 21,
   "id": "b9800309",
   "metadata": {},
   "outputs": [
    {
     "name": "stdout",
     "output_type": "stream",
     "text": [
      "0 unlabeled\n",
      "1 OUT_Road\n",
      "3 OUT_Tree\n",
      "5 OUT_Pole\n",
      "8 OUT_Curbstone\n",
      "9 OUT_Pavement\n",
      "21 OUT_Grass\n",
      "22 Human\n",
      "23 OUT_Bench\n",
      "25 OUT_Sculpture\n"
     ]
    },
    {
     "data": {
      "image/png": "[encoded data removed]",
      "text/plain": [
       "<Figure size 432x288 with 1 Axes>"
      ]
     },
     "metadata": {
      "needs_background": "light"
     },
     "output_type": "display_data"
    }
   ],
   "source": [
    "img = cv2.imread(sample_file, cv2.IMREAD_GRAYSCALE)\n",
    "for value in np.unique(img):\n",
    "    print(value, reverse_cls_names[value])\n",
    "plt.imshow(img, cmap='gray')\n",
    "plt.show()"
   ]
  },
  {
   "cell_type": "code",
   "execution_count": null,
   "id": "aec28ce4",
   "metadata": {},
   "outputs": [],
   "source": []
  }
 ],
 "metadata": {
  "kernelspec": {
   "display_name": "Python 3 (ipykernel)",
   "language": "python",
   "name": "python3"
  },
  "language_info": {
   "codemirror_mode": {
    "name": "ipython",
    "version": 3
   },
   "file_extension": ".py",
   "mimetype": "text/x-python",
   "name": "python",
   "nbconvert_exporter": "python",
   "pygments_lexer": "ipython3",
   "version": "3.7.13"
  }
 },
 "nbformat": 4,
 "nbformat_minor": 5
}
